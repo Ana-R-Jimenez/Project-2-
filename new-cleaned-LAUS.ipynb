{
 "cells": [
  {
   "cell_type": "code",
   "execution_count": 1,
   "metadata": {},
   "outputs": [],
   "source": [
    "import os\n",
    "import csv\n",
    "import pandas as pd\n"
   ]
  },
  {
   "cell_type": "code",
   "execution_count": 2,
   "metadata": {},
   "outputs": [],
   "source": [
    "data = pd.read_csv('data/yearly-unemployment-data.csv')"
   ]
  },
  {
   "cell_type": "code",
   "execution_count": 3,
   "metadata": {},
   "outputs": [
    {
     "name": "stdout",
     "output_type": "stream",
     "text": [
      "     Area Type       Area Name  Year  Period  Labor Force  Employment  \\\n",
      "0       County  Alameda County  1990  Annual       677400      649900   \n",
      "1       County  Alameda County  1991  Annual       671800      635500   \n",
      "2       County  Alameda County  1992  Annual       677400      633100   \n",
      "3       County  Alameda County  1993  Annual       678100      633000   \n",
      "4       County  Alameda County  1994  Annual       679900      638200   \n",
      "...        ...             ...   ...     ...          ...         ...   \n",
      "2547    County     Yuba County  2014  Annual        27900       24800   \n",
      "2548    County     Yuba County  2015  Annual        27700       25200   \n",
      "2549    County     Yuba County  2016  Annual        28200       25700   \n",
      "2550    County     Yuba County  2017  Annual        28800       26600   \n",
      "2551    County     Yuba County  2018  Annual        29100       27200   \n",
      "\n",
      "      Unemployment  Unemployment Rate Seasonally Adjusted (Y N) Status  \n",
      "0            27500                4.1                         N  Final  \n",
      "1            36300                5.4                         N  Final  \n",
      "2            44300                6.5                         N  Final  \n",
      "3            45100                6.6                         N  Final  \n",
      "4            41600                6.1                         N  Final  \n",
      "...            ...                ...                       ...    ...  \n",
      "2547          3100               11.2                         N  Final  \n",
      "2548          2600                9.3                         N  Final  \n",
      "2549          2400                8.6                         N  Final  \n",
      "2550          2100                7.4                         N  Final  \n",
      "2551          1900                6.4                         N  Final  \n",
      "\n",
      "[2552 rows x 10 columns]\n"
     ]
    }
   ],
   "source": [
    "print(data)"
   ]
  },
  {
   "cell_type": "code",
   "execution_count": 4,
   "metadata": {},
   "outputs": [],
   "source": [
    "data_yrs = data.loc[(data['Year'] >= 2008)]"
   ]
  },
  {
   "cell_type": "code",
   "execution_count": 5,
   "metadata": {},
   "outputs": [
    {
     "name": "stdout",
     "output_type": "stream",
     "text": [
      "     Area Type       Area Name  Year  Period  Labor Force  Employment  \\\n",
      "18      County  Alameda County  2008  Annual       756400      709400   \n",
      "19      County  Alameda County  2009  Annual       760900      682900   \n",
      "20      County  Alameda County  2010  Annual       782500      697100   \n",
      "21      County  Alameda County  2011  Annual       786800      707400   \n",
      "22      County  Alameda County  2012  Annual       798400      729000   \n",
      "...        ...             ...   ...     ...          ...         ...   \n",
      "2547    County     Yuba County  2014  Annual        27900       24800   \n",
      "2548    County     Yuba County  2015  Annual        27700       25200   \n",
      "2549    County     Yuba County  2016  Annual        28200       25700   \n",
      "2550    County     Yuba County  2017  Annual        28800       26600   \n",
      "2551    County     Yuba County  2018  Annual        29100       27200   \n",
      "\n",
      "      Unemployment  Unemployment Rate Seasonally Adjusted (Y N) Status  \n",
      "18           47000                6.2                         N  Final  \n",
      "19           78000               10.3                         N  Final  \n",
      "20           85400               10.9                         N  Final  \n",
      "21           79400               10.1                         N  Final  \n",
      "22           69400                8.7                         N  Final  \n",
      "...            ...                ...                       ...    ...  \n",
      "2547          3100               11.2                         N  Final  \n",
      "2548          2600                9.3                         N  Final  \n",
      "2549          2400                8.6                         N  Final  \n",
      "2550          2100                7.4                         N  Final  \n",
      "2551          1900                6.4                         N  Final  \n",
      "\n",
      "[968 rows x 10 columns]\n"
     ]
    }
   ],
   "source": [
    "print(data_yrs)"
   ]
  },
  {
   "cell_type": "code",
   "execution_count": 6,
   "metadata": {},
   "outputs": [],
   "source": [
    "data_group = data_yrs.groupby(['Year','Area Type']).agg({'Unemployment':sum})"
   ]
  },
  {
   "cell_type": "code",
   "execution_count": 7,
   "metadata": {},
   "outputs": [
    {
     "data": {
      "text/html": [
       "<div>\n",
       "<style scoped>\n",
       "    .dataframe tbody tr th:only-of-type {\n",
       "        vertical-align: middle;\n",
       "    }\n",
       "\n",
       "    .dataframe tbody tr th {\n",
       "        vertical-align: top;\n",
       "    }\n",
       "\n",
       "    .dataframe thead th {\n",
       "        text-align: right;\n",
       "    }\n",
       "</style>\n",
       "<table border=\"1\" class=\"dataframe\">\n",
       "  <thead>\n",
       "    <tr style=\"text-align: right;\">\n",
       "      <th></th>\n",
       "      <th></th>\n",
       "      <th>Unemployment</th>\n",
       "    </tr>\n",
       "    <tr>\n",
       "      <th>Year</th>\n",
       "      <th>Area Type</th>\n",
       "      <th></th>\n",
       "    </tr>\n",
       "  </thead>\n",
       "  <tbody>\n",
       "    <tr>\n",
       "      <th rowspan=\"3\" valign=\"top\">2008</th>\n",
       "      <th>County</th>\n",
       "      <td>1335750</td>\n",
       "    </tr>\n",
       "    <tr>\n",
       "      <th>Metropolitan Area</th>\n",
       "      <td>1269480</td>\n",
       "    </tr>\n",
       "    <tr>\n",
       "      <th>State</th>\n",
       "      <td>1323600</td>\n",
       "    </tr>\n",
       "    <tr>\n",
       "      <th rowspan=\"3\" valign=\"top\">2009</th>\n",
       "      <th>County</th>\n",
       "      <td>2050830</td>\n",
       "    </tr>\n",
       "    <tr>\n",
       "      <th>Metropolitan Area</th>\n",
       "      <td>1952090</td>\n",
       "    </tr>\n",
       "    <tr>\n",
       "      <th>State</th>\n",
       "      <td>2032600</td>\n",
       "    </tr>\n",
       "    <tr>\n",
       "      <th rowspan=\"3\" valign=\"top\">2010</th>\n",
       "      <th>County</th>\n",
       "      <td>2264550</td>\n",
       "    </tr>\n",
       "    <tr>\n",
       "      <th>Metropolitan Area</th>\n",
       "      <td>2153080</td>\n",
       "    </tr>\n",
       "    <tr>\n",
       "      <th>State</th>\n",
       "      <td>2244300</td>\n",
       "    </tr>\n",
       "    <tr>\n",
       "      <th rowspan=\"3\" valign=\"top\">2011</th>\n",
       "      <th>County</th>\n",
       "      <td>2176900</td>\n",
       "    </tr>\n",
       "    <tr>\n",
       "      <th>Metropolitan Area</th>\n",
       "      <td>2068580</td>\n",
       "    </tr>\n",
       "    <tr>\n",
       "      <th>State</th>\n",
       "      <td>2157000</td>\n",
       "    </tr>\n",
       "    <tr>\n",
       "      <th rowspan=\"3\" valign=\"top\">2012</th>\n",
       "      <th>County</th>\n",
       "      <td>1939470</td>\n",
       "    </tr>\n",
       "    <tr>\n",
       "      <th>Metropolitan Area</th>\n",
       "      <td>1841820</td>\n",
       "    </tr>\n",
       "    <tr>\n",
       "      <th>State</th>\n",
       "      <td>1921100</td>\n",
       "    </tr>\n",
       "    <tr>\n",
       "      <th rowspan=\"3\" valign=\"top\">2013</th>\n",
       "      <th>County</th>\n",
       "      <td>1682100</td>\n",
       "    </tr>\n",
       "    <tr>\n",
       "      <th>Metropolitan Area</th>\n",
       "      <td>1599130</td>\n",
       "    </tr>\n",
       "    <tr>\n",
       "      <th>State</th>\n",
       "      <td>1666600</td>\n",
       "    </tr>\n",
       "    <tr>\n",
       "      <th rowspan=\"3\" valign=\"top\">2014</th>\n",
       "      <th>County</th>\n",
       "      <td>1417180</td>\n",
       "    </tr>\n",
       "    <tr>\n",
       "      <th>Metropolitan Area</th>\n",
       "      <td>1347540</td>\n",
       "    </tr>\n",
       "    <tr>\n",
       "      <th>State</th>\n",
       "      <td>1403800</td>\n",
       "    </tr>\n",
       "    <tr>\n",
       "      <th rowspan=\"3\" valign=\"top\">2015</th>\n",
       "      <th>County</th>\n",
       "      <td>1181150</td>\n",
       "    </tr>\n",
       "    <tr>\n",
       "      <th>Metropolitan Area</th>\n",
       "      <td>1122080</td>\n",
       "    </tr>\n",
       "    <tr>\n",
       "      <th>State</th>\n",
       "      <td>1169200</td>\n",
       "    </tr>\n",
       "    <tr>\n",
       "      <th>2016</th>\n",
       "      <th>County</th>\n",
       "      <td>1052710</td>\n",
       "    </tr>\n",
       "  </tbody>\n",
       "</table>\n",
       "</div>"
      ],
      "text/plain": [
       "                        Unemployment\n",
       "Year Area Type                      \n",
       "2008 County                  1335750\n",
       "     Metropolitan Area       1269480\n",
       "     State                   1323600\n",
       "2009 County                  2050830\n",
       "     Metropolitan Area       1952090\n",
       "     State                   2032600\n",
       "2010 County                  2264550\n",
       "     Metropolitan Area       2153080\n",
       "     State                   2244300\n",
       "2011 County                  2176900\n",
       "     Metropolitan Area       2068580\n",
       "     State                   2157000\n",
       "2012 County                  1939470\n",
       "     Metropolitan Area       1841820\n",
       "     State                   1921100\n",
       "2013 County                  1682100\n",
       "     Metropolitan Area       1599130\n",
       "     State                   1666600\n",
       "2014 County                  1417180\n",
       "     Metropolitan Area       1347540\n",
       "     State                   1403800\n",
       "2015 County                  1181150\n",
       "     Metropolitan Area       1122080\n",
       "     State                   1169200\n",
       "2016 County                  1052710"
      ]
     },
     "execution_count": 7,
     "metadata": {},
     "output_type": "execute_result"
    }
   ],
   "source": [
    "data_group.head(25)"
   ]
  },
  {
   "cell_type": "code",
   "execution_count": 8,
   "metadata": {},
   "outputs": [],
   "source": [
    "new_data =data_group.reset_index()"
   ]
  },
  {
   "cell_type": "code",
   "execution_count": 9,
   "metadata": {},
   "outputs": [],
   "source": [
    "new_data.to_csv('data/new_cleaned_LAUS.csv',index=False)"
   ]
  },
  {
   "cell_type": "code",
   "execution_count": null,
   "metadata": {},
   "outputs": [],
   "source": []
  }
 ],
 "metadata": {
  "kernelspec": {
   "display_name": "Python 3",
   "language": "python",
   "name": "python3"
  },
  "language_info": {
   "codemirror_mode": {
    "name": "ipython",
    "version": 3
   },
   "file_extension": ".py",
   "mimetype": "text/x-python",
   "name": "python",
   "nbconvert_exporter": "python",
   "pygments_lexer": "ipython3",
   "version": "3.8.5"
  }
 },
 "nbformat": 4,
 "nbformat_minor": 4
}
