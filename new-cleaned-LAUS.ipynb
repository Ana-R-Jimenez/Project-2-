{
 "cells": [
  {
   "cell_type": "code",
   "execution_count": 24,
   "metadata": {},
   "outputs": [],
   "source": [
    "import os\n",
    "import csv\n",
    "import pandas as pd\n"
   ]
  },
  {
   "cell_type": "code",
   "execution_count": 32,
   "metadata": {},
   "outputs": [],
   "source": [
    "data = pd.read_csv('data/yearly-unemployment-data.csv')"
   ]
  },
  {
   "cell_type": "code",
   "execution_count": 33,
   "metadata": {},
   "outputs": [
    {
     "name": "stdout",
     "output_type": "stream",
     "text": [
      "     Area Type       Area Name  Year  Period  Labor Force  Employment  \\\n",
      "0       County  Alameda County  1990  Annual       677400      649900   \n",
      "1       County  Alameda County  1991  Annual       671800      635500   \n",
      "2       County  Alameda County  1992  Annual       677400      633100   \n",
      "3       County  Alameda County  1993  Annual       678100      633000   \n",
      "4       County  Alameda County  1994  Annual       679900      638200   \n",
      "...        ...             ...   ...     ...          ...         ...   \n",
      "2547    County     Yuba County  2014  Annual        27900       24800   \n",
      "2548    County     Yuba County  2015  Annual        27700       25200   \n",
      "2549    County     Yuba County  2016  Annual        28200       25700   \n",
      "2550    County     Yuba County  2017  Annual        28800       26600   \n",
      "2551    County     Yuba County  2018  Annual        29100       27200   \n",
      "\n",
      "      Unemployment  Unemployment Rate Seasonally Adjusted (Y N) Status  \n",
      "0            27500                4.1                         N  Final  \n",
      "1            36300                5.4                         N  Final  \n",
      "2            44300                6.5                         N  Final  \n",
      "3            45100                6.6                         N  Final  \n",
      "4            41600                6.1                         N  Final  \n",
      "...            ...                ...                       ...    ...  \n",
      "2547          3100               11.2                         N  Final  \n",
      "2548          2600                9.3                         N  Final  \n",
      "2549          2400                8.6                         N  Final  \n",
      "2550          2100                7.4                         N  Final  \n",
      "2551          1900                6.4                         N  Final  \n",
      "\n",
      "[2552 rows x 10 columns]\n"
     ]
    }
   ],
   "source": [
    "print(data)"
   ]
  },
  {
   "cell_type": "code",
   "execution_count": 38,
   "metadata": {},
   "outputs": [],
   "source": [
    "data_yrs = data.loc[(data['Year'] >= 2008)]"
   ]
  },
  {
   "cell_type": "code",
   "execution_count": 39,
   "metadata": {},
   "outputs": [
    {
     "name": "stdout",
     "output_type": "stream",
     "text": [
      "     Area Type       Area Name  Year  Period  Labor Force  Employment  \\\n",
      "18      County  Alameda County  2008  Annual       756400      709400   \n",
      "19      County  Alameda County  2009  Annual       760900      682900   \n",
      "20      County  Alameda County  2010  Annual       782500      697100   \n",
      "21      County  Alameda County  2011  Annual       786800      707400   \n",
      "22      County  Alameda County  2012  Annual       798400      729000   \n",
      "...        ...             ...   ...     ...          ...         ...   \n",
      "2547    County     Yuba County  2014  Annual        27900       24800   \n",
      "2548    County     Yuba County  2015  Annual        27700       25200   \n",
      "2549    County     Yuba County  2016  Annual        28200       25700   \n",
      "2550    County     Yuba County  2017  Annual        28800       26600   \n",
      "2551    County     Yuba County  2018  Annual        29100       27200   \n",
      "\n",
      "      Unemployment  Unemployment Rate Seasonally Adjusted (Y N) Status  \n",
      "18           47000                6.2                         N  Final  \n",
      "19           78000               10.3                         N  Final  \n",
      "20           85400               10.9                         N  Final  \n",
      "21           79400               10.1                         N  Final  \n",
      "22           69400                8.7                         N  Final  \n",
      "...            ...                ...                       ...    ...  \n",
      "2547          3100               11.2                         N  Final  \n",
      "2548          2600                9.3                         N  Final  \n",
      "2549          2400                8.6                         N  Final  \n",
      "2550          2100                7.4                         N  Final  \n",
      "2551          1900                6.4                         N  Final  \n",
      "\n",
      "[968 rows x 10 columns]\n"
     ]
    }
   ],
   "source": [
    "print(data_yrs)"
   ]
  },
  {
   "cell_type": "code",
   "execution_count": 41,
   "metadata": {},
   "outputs": [],
   "source": [
    "data_yrs.to_csv('data/new_cleaned_LAUS.csv',index=False)"
   ]
  },
  {
   "cell_type": "code",
   "execution_count": null,
   "metadata": {},
   "outputs": [],
   "source": []
  }
 ],
 "metadata": {
  "kernelspec": {
   "display_name": "Python 3",
   "language": "python",
   "name": "python3"
  },
  "language_info": {
   "codemirror_mode": {
    "name": "ipython",
    "version": 3
   },
   "file_extension": ".py",
   "mimetype": "text/x-python",
   "name": "python",
   "nbconvert_exporter": "python",
   "pygments_lexer": "ipython3",
   "version": "3.8.5"
  }
 },
 "nbformat": 4,
 "nbformat_minor": 4
}
